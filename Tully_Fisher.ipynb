{
 "cells": [
  {
   "cell_type": "markdown",
   "metadata": {},
   "source": [
    "## Tully-Fisher Relation Homework\n",
    "Author: Tatsuo Schaufus\n",
    "### Task 1: Use the given data tables to calibrate a Tully-Fisher relationship for the known galaxies"
   ]
  },
  {
   "cell_type": "code",
   "execution_count": 2,
   "metadata": {},
   "outputs": [],
   "source": [
    "import numpy as np\n",
    "import matplotlib.pyplot as plt\n",
    "from numpy.polynomial.polynomial import polyfit\n",
    "%matplotlib inline"
   ]
  },
  {
   "cell_type": "markdown",
   "metadata": {},
   "source": [
    "Since there was a lot of data to be held, I decided to add it into a `dat` file which I could simply call in for use. Values for inclination angle, internal extinction and absolute magnitude were given 0s as a placeholder."
   ]
  },
  {
   "cell_type": "code",
   "execution_count": 3,
   "metadata": {},
   "outputs": [],
   "source": [
    "# creating an array to hold all the given data for calibration\n",
    "dtype = []\n",
    "dtype.append( ('galaxy_name', 'U200') ) \n",
    "dtype.append( ('Inclination_angle', float) ) \n",
    "dtype.append( ('Distance_Mpc', float) ) \n",
    "dtype.append( ('Apparent_magnitude_B', float) ) \n",
    "dtype.append( ('Galactic_extinction', float) ) \n",
    "dtype.append( ('Major_axis', float) ) \n",
    "dtype.append( ('Minor_axis', float) ) \n",
    "dtype.append( ('HI_width', float) ) \n",
    "dtype.append( ('Galactic_extinction_internal', float) ) \n",
    "dtype.append( ('Absolute_Magnitude_B', float))\n",
    "\n",
    "galaxies = np.genfromtxt('/home/taterz/galaxies.dat', dtype=dtype)"
   ]
  },
  {
   "cell_type": "markdown",
   "metadata": {},
   "source": [
    "The next step was for me to determine those placeholder's real values, which were done with the estimations given from class. For the inclination angle, I used the formula $i = arccos(\\frac{b}{a})$. Since `numpy` deals in radians, I manually changed the value to degrees for storage in the `Inclination_angle` flag. I also used the formula given in the paper to determine the extinction that is internal to each galaxy and stored that in the `Galactic_extinction_internal` flag. "
   ]
  },
  {
   "cell_type": "code",
   "execution_count": 4,
   "metadata": {
    "scrolled": true
   },
   "outputs": [],
   "source": [
    "# using the data given to find inclination, internal extinction, and absolute magnitudes\n",
    "\n",
    "galaxies['Inclination_angle'] = np.arccos(galaxies[\"Minor_axis\"]/galaxies['Major_axis'])*180/np.pi\n",
    "\n",
    "galaxies['Galactic_extinction_internal'] = 0.28*(galaxies[\"Major_axis\"]/galaxies['Minor_axis'] - 1)\n",
    "\n",
    "extinct=galaxies['Apparent_magnitude_B']-galaxies['Galactic_extinction']-galaxies['Galactic_extinction_internal']\n",
    "galaxies['Absolute_Magnitude_B'] = -(5*np.log10(galaxies['Distance_Mpc']*100000)) + extinct"
   ]
  },
  {
   "cell_type": "markdown",
   "metadata": {},
   "source": [
    "This next cell was just to confirm what all my values were, and allow myself to check to see if they are actually making sense. I had values of absolute magnitude in the -40s which I knew were wrong, and it took far too long to realize I was using `np.log` (base e) and not `np.log10` (base 10). "
   ]
  },
  {
   "cell_type": "code",
   "execution_count": 5,
   "metadata": {},
   "outputs": [
    {
     "data": {
      "text/plain": [
       "array([('M31', 68.56273681, 0.71 ,  4.33, 0.44, 197. , 72. , 540., 0.48611111, -20.85240285),\n",
       "       ('M33', 50.31590462, 0.817,  6.19, 0.12,  83. , 53. , 200., 0.15849057, -18.64960085),\n",
       "       ('M81', 66.42182152, 3.25 ,  7.85, 0.07,  35. , 14. , 450., 0.42      , -20.1994168 ),\n",
       "       ('NGC2403', 58.85261008, 3.25 ,  8.8 , 0.24,  29. , 15. , 270., 0.26133333, -19.26075014),\n",
       "       ('NGC4236', 69.74775326, 3.25 , 10.05, 0.02,  26. ,  9. , 200., 0.52888889, -18.05830569),\n",
       "       ('IC2574', 60.        , 3.25 , 10.91, 0.04,  16. ,  8. , 120., 0.28      , -16.9694168 ),\n",
       "       ('NGC5204', 60.        , 3.25 , 11.41, 0.19,  10. ,  5. , 120., 0.28      , -16.6194168 ),\n",
       "       ('NGC5585', 49.06727543, 7.24 , 11.25, 0.  ,   8.7,  5.7, 170., 0.14736842, -18.19606125),\n",
       "       ('NGC5204', 49.45839813, 7.24 , 11.62, 0.  ,   8. ,  5.2, 130., 0.15076923, -17.82946206),\n",
       "       ('HoIV', 65.45646012, 7.24 , 12.95, 0.  ,   6.5,  2.7, 110., 0.39407407, -16.74276691)],\n",
       "      dtype=[('galaxy_name', '<U200'), ('Inclination_angle', '<f8'), ('Distance_Mpc', '<f8'), ('Apparent_magnitude_B', '<f8'), ('Galactic_extinction', '<f8'), ('Major_axis', '<f8'), ('Minor_axis', '<f8'), ('HI_width', '<f8'), ('Galactic_extinction_internal', '<f8'), ('Absolute_Magnitude_B', '<f8')])"
      ]
     },
     "execution_count": 5,
     "metadata": {},
     "output_type": "execute_result"
    }
   ],
   "source": [
    "galaxies"
   ]
  },
  {
   "cell_type": "markdown",
   "metadata": {},
   "source": [
    "With everything looking good, the next step was to determine the corrected rotation speed. After which I made some single letter variables to make it easier for me to use the `polyfit` function. What I found was that these best fit algorithms were not accurately finding the lines of best fit, so I had to manually adjust it. Luckily this wasn't a long process. Again, since `numpy` works with radians I had to manually change the values back in radians from degrees. It's a bit of a redundant process, but I did not use the `units` import so this was my own fault."
   ]
  },
  {
   "cell_type": "code",
   "execution_count": 6,
   "metadata": {},
   "outputs": [
    {
     "data": {
      "image/png": "[encoded data removed]",
      "text/plain": [
       "<Figure size 432x288 with 1 Axes>"
      ]
     },
     "metadata": {
      "needs_background": "light"
     },
     "output_type": "display_data"
    }
   ],
   "source": [
    "W_r = galaxies['HI_width']/np.sin(galaxies['Inclination_angle']*np.pi/180)\n",
    "x = np.log10(W_r)\n",
    "y = galaxies['Absolute_Magnitude_B']\n",
    "\n",
    "# using polyfit to find best line\n",
    "m, b = polyfit(x, y, 1)\n",
    "\n",
    "# polyfit could use some manual adjustments\n",
    "b = b + 4\n",
    "m = m - 3\n",
    "\n",
    "\n",
    "plt.plot(x, y, 'bo', label='Galaxy_Data')\n",
    "plt.plot(np.arange(10), m*np.arange(10) + b, 'r-', label='Best_Fit')\n",
    "\n",
    "plt.xlabel('log W_r / sin i')\n",
    "plt.ylabel('B-band Absolute Magnitude')\n",
    "\n",
    "plt.gca().invert_yaxis()\n",
    "plt.legend(loc='best')\n",
    "plt.xlim(2,3)\n",
    "plt.ylim(-15,-23)\n",
    "plt.show()"
   ]
  },
  {
   "cell_type": "code",
   "execution_count": 7,
   "metadata": {},
   "outputs": [
    {
     "name": "stdout",
     "output_type": "stream",
     "text": [
      "The a and b values for the Tulley-Fisher relation are  -6.839464201343622 and  -2.130795426602049\n"
     ]
    }
   ],
   "source": [
    "print(\"The a and b values for the Tulley-Fisher relation are \", m, \"and \", b)"
   ]
  },
  {
   "cell_type": "markdown",
   "metadata": {},
   "source": [
    "Here I plotted the values and had an extra cell output the values for the slope and intercept of the best fitting line. The data came out to a very distinct line, so making adjustments was very easy."
   ]
  },
  {
   "cell_type": "markdown",
   "metadata": {},
   "source": [
    "### Task 2: Calculate the distance to the galaxies NGC3893, NGC3953, and NGC3992. Estimate uncertainty. Determine the Hubble constant."
   ]
  },
  {
   "cell_type": "markdown",
   "metadata": {},
   "source": [
    "With the values for the slope and intercepts calculated, I could now use this to find the absolute magnitudes elsewhere. My first step was the exact same, I set up a new array to hold the values for the knowns and unknowns for the three galaxies. Unlike before, I did not make a `dat` file. Instead I created an empty array that I would fill with values later."
   ]
  },
  {
   "cell_type": "code",
   "execution_count": 42,
   "metadata": {},
   "outputs": [],
   "source": [
    "# creating a new array to hold the values for the estimated galaxies\n",
    "dtype2 = []\n",
    "dtype2.append( ('galaxy_name', 'U200') )  \n",
    "dtype2.append( ('Distance_Mpc', float) ) \n",
    "dtype2.append( ('Apparent_magnitude_B', float) ) \n",
    "dtype2.append( ('HI_width', float) ) \n",
    "dtype2.append( ('Absolute_Magnitude_B', float))\n",
    "dtype2.append( ('Recessional_Velocity', float))\n",
    "dtype2.append( ('Galactic_extinction', float))\n",
    "\n",
    "galaxies_est = np.empty(3, dtype=dtype2)"
   ]
  },
  {
   "cell_type": "markdown",
   "metadata": {},
   "source": [
    "I then used a bit of a lazy approach to fill out the values, but I like the clean look of the copy paste."
   ]
  },
  {
   "cell_type": "code",
   "execution_count": 44,
   "metadata": {},
   "outputs": [],
   "source": [
    "# using the new array to hold the values for the estimations\n",
    "galaxies_est[0] = 'NGC3893', 0, 10.6, 300, 0, 1030, 0.077\n",
    "galaxies_est[1] = 'NGC3953', 0, 10.8, 450, 0, 1040, 0.109\n",
    "galaxies_est[2] = 'NGC3992', 0, 10.7, 500, 0, 1130, 0.106"
   ]
  },
  {
   "cell_type": "markdown",
   "metadata": {},
   "source": [
    "Given my extremely long variable names, I used an intermediary variable called `dist_mod` to hold the values for the distance modulus. This was calculated using the Tully-Fisher relation found previously. I also converted my distance from parsec to mega parsec manually, as I did not include the `units` import."
   ]
  },
  {
   "cell_type": "code",
   "execution_count": 45,
   "metadata": {},
   "outputs": [],
   "source": [
    "# finding the values for the absolute magnitude using the Tully Fisher calibration\n",
    "galaxies_est['Absolute_Magnitude_B'] = m*np.log10(galaxies_est['HI_width']) + b\n",
    "\n",
    "# accounting for extinction\n",
    "dist_mod = galaxies_est['Apparent_magnitude_B']-galaxies_est['Absolute_Magnitude_B'] - galaxies_est['Galactic_extinction']\n",
    "galaxies_est['Distance_Mpc'] = 10**(dist_mod/5 + 1) / 1000000"
   ]
  },
  {
   "cell_type": "markdown",
   "metadata": {},
   "source": [
    "The next line is just as before, to confirm whether or not the values make any amount of sense. Given that everything is falling within what the Schechter Function suggests the range of galaxy luminosities, I figured it was good."
   ]
  },
  {
   "cell_type": "code",
   "execution_count": 46,
   "metadata": {},
   "outputs": [
    {
     "data": {
      "text/plain": [
       "array([('NGC3893',  8.3022444 , 10.6, 300., -19.07297757, 1030., 0.077),\n",
       "       ('NGC3953', 15.61958485, 10.8, 450., -20.27734743, 1040., 0.109),\n",
       "       ('NGC3992', 17.25284936, 10.7, 500., -20.59030415, 1130., 0.106)],\n",
       "      dtype=[('galaxy_name', '<U200'), ('Distance_Mpc', '<f8'), ('Apparent_magnitude_B', '<f8'), ('HI_width', '<f8'), ('Absolute_Magnitude_B', '<f8'), ('Recessional_Velocity', '<f8'), ('Galactic_extinction', '<f8')])"
      ]
     },
     "execution_count": 46,
     "metadata": {},
     "output_type": "execute_result"
    }
   ],
   "source": [
    "galaxies_est"
   ]
  },
  {
   "cell_type": "markdown",
   "metadata": {},
   "source": [
    "The next step was to plot my values and determine the Hubble constant. Given three points of data, I knew the line could not have a y-intercept greater than 0 otherwise it would make no sense. I once again tried to use `polyfit` to no avail, and adjusted the slope to a reasonable 80. "
   ]
  },
  {
   "cell_type": "code",
   "execution_count": 56,
   "metadata": {},
   "outputs": [
    {
     "name": "stdout",
     "output_type": "stream",
     "text": [
      "Hubble constant estimation: 80 km/s/Mpc.\n"
     ]
    },
    {
     "data": {
      "image/png": "[encoded data removed]",
      "text/plain": [
       "<Figure size 432x288 with 1 Axes>"
      ]
     },
     "metadata": {
      "needs_background": "light"
     },
     "output_type": "display_data"
    }
   ],
   "source": [
    "plt.plot(galaxies_est['Distance_Mpc'], galaxies_est['Recessional_Velocity'], 'bo')\n",
    "\n",
    "m2, b2 = polyfit(galaxies_est['Distance_Mpc'], galaxies_est['Recessional_Velocity'], 1)\n",
    "plt.plot(np.arange(20), np.arange(20)*80)\n",
    "\n",
    "plt.xlabel('Distance Mpc')\n",
    "plt.ylabel('Recessional Velocity km/s')\n",
    "\n",
    "plt.xlim(0,20)\n",
    "plt.ylim(0,2000)\n",
    "print(\"Hubble constant estimation: 80 km/s/Mpc.\")"
   ]
  },
  {
   "cell_type": "code",
   "execution_count": 52,
   "metadata": {
    "scrolled": true
   },
   "outputs": [
    {
     "data": {
      "text/plain": [
       "85.38078034362296"
      ]
     },
     "execution_count": 52,
     "metadata": {},
     "output_type": "execute_result"
    }
   ],
   "source": [
    "rise_over_run = galaxies_est['Recessional_Velocity'] / galaxies_est['Distance_Mpc']\n",
    "estimation = (rise_over_run[0] + rise_over_run[1] + rise_over_run[2]) / 3\n",
    "estimation"
   ]
  },
  {
   "cell_type": "markdown",
   "metadata": {},
   "source": [
    "A more crude method to determine this value assumes each point carries equal weight. I then simply took the slope at each point and took an average of the three added together. This value came out to roughly 85.38 $\\frac{km}{sMpc}$, which is near the 80 $\\frac{km}{sMpc}$ I used by eye. "
   ]
  },
  {
   "cell_type": "markdown",
   "metadata": {},
   "source": [
    "Given that the current value of the Hubble constant is slightly less than 74 $\\frac{km}{sMpc}$, I would argue my value comes within a reasonable range. However, my algorithms to find the best fitting lines were not functioning as well as I would have hoped, so there is a bit of estimation error in those values. My decision to try 80$\\frac{km}{sMpc}$ was based on Tully-Fisher's results, which fit the data well enough. A more crude estimation of the value was also relatively near their result, which was 85.38$\\frac{km}{sMpc}$.\n",
    "\n",
    "The major sources of uncertainty would be in the measurements for the HI velocity width, as that was largely a guess on my part. Another slightly less potent source of extinction would be the measurement for the apparent magnitude. The uncertainty in the distance also could drastically affect the measurement for the magnitudes. The inclination angle is also a potentially massive source of error, since the division by the `sin` of this angle can alter the value of the rotational velocity. "
   ]
  }
 ],
 "metadata": {
  "kernelspec": {
   "display_name": "Python 3",
   "language": "python",
   "name": "python3"
  },
  "language_info": {
   "codemirror_mode": {
    "name": "ipython",
    "version": 3
   },
   "file_extension": ".py",
   "mimetype": "text/x-python",
   "name": "python",
   "nbconvert_exporter": "python",
   "pygments_lexer": "ipython3",
   "version": "3.7.2"
  }
 },
 "nbformat": 4,
 "nbformat_minor": 2
}
